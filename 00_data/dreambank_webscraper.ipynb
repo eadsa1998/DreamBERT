{
 "cells": [
  {
   "cell_type": "markdown",
   "id": "88d3c062",
   "metadata": {},
   "source": [
    "### Trigger Warning for anyone digging into this data: Mentions of sex, References to transgender individuals that could be considered insensitive\n",
    "The text of these dreams came a website that was created 20 years ago and has not been updated in any sense except for additions to the library of dreams. Similarly, the dreams themselves came from individuals that account for a wide variety of ages and lifestyles. Because of these two things, there is some content in the following data that could be considered inappropriate by some individuals, either because it uses descriptions for certain individuals that we may now consider inappropriate, or because of some of the sensitive topics the dreams cover. It is also worth noting that I have not read through all 26,000+ of the dream descriptions, so there may be other triggering topics mentioned there that I have not covered above.\n"
   ]
  },
  {
   "cell_type": "markdown",
   "id": "fb117580",
   "metadata": {},
   "source": [
    "## Import necessary packages and libraries "
   ]
  },
  {
   "cell_type": "code",
   "execution_count": 3,
   "id": "5054ae5b",
   "metadata": {},
   "outputs": [],
   "source": [
    "import requests\n",
    "from bs4 import BeautifulSoup\n",
    "import pandas as pd\n",
    "import numpy as np\n",
    "import re"
   ]
  },
  {
   "cell_type": "markdown",
   "id": "21ded939",
   "metadata": {},
   "source": [
    "## List URLs to scrape for text\n",
    "Because of the way the website that I got this data from is structured, I had to search for every grouping of dreams and scrape the search result pages for the text. Each of these URLs is one of those results pages. Some of the entries were structured differently, so I separated them out to make parsing easier. Of all of the sets of dream descriptions list on the website, I elected not to use five because they were written in a different language (either German or Dutch)."
   ]
  },
  {
   "cell_type": "code",
   "execution_count": 4,
   "id": "cc374a33",
   "metadata": {},
   "outputs": [],
   "source": [
    "#one set of 6100 is in dutch, two other sets of 397 and 140 that were in german, another two sets of 164 and 135 that were in dutch\n",
    "urls = [\"https://www.dreambank.net/random_sample.cgi?series=alta&min=0&max=10000&n=422\", \n",
    "        \"https://www.dreambank.net/random_sample.cgi?series=angie&min=0&max=10000&n=48\", \n",
    "        \"https://www.dreambank.net/random_sample.cgi?series=arlie&min=0&max=10000&n=212\",\n",
    "        \"https://www.dreambank.net/random_sample.cgi?series=b&min=0&max=10000&n=3116\",\n",
    "        \"https://www.dreambank.net/random_sample.cgi?series=b2&min=0&max=10000&n=10000\",\n",
    "        \"https://www.dreambank.net/random_sample.cgi?series=b-baseline&min=0&max=10000&n=10000\",\n",
    "        \"https://www.dreambank.net/random_sample.cgi?series=bea1&min=0&max=10000&n=10000\",\n",
    "        \"https://www.dreambank.net/random_sample.cgi?series=bea2&min=0&max=10000&n=10000\",\n",
    "        \"https://www.dreambank.net/random_sample.cgi?series=blind-f&min=0&max=10000&n=10000\",\n",
    "        \"https://www.dreambank.net/random_sample.cgi?series=blind-m&min=0&max=10000&n=10000\",\n",
    "        \"https://www.dreambank.net/random_sample.cgi?series=chris&min=0&max=10000&n=10000\",\n",
    "        \"https://www.dreambank.net/random_sample.cgi?series=chuck&min=0&max=10000&n=10000\",\n",
    "        \"https://www.dreambank.net/random_sample.cgi?series=college-f&min=0&max=10000&n=10000\",\n",
    "        \"https://www.dreambank.net/random_sample.cgi?series=college-m&min=0&max=10000&n=10000\",\n",
    "        \"https://www.dreambank.net/random_sample.cgi?series=dahlia&min=0&max=10000&n=10000\",\n",
    "        \"https://www.dreambank.net/random_sample.cgi?series=david&min=0&max=10000&n=10000\",\n",
    "        \"https://www.dreambank.net/random_sample.cgi?series=dorothea&min=0&max=10000&n=10000\",\n",
    "        \"https://www.dreambank.net/random_sample.cgi?series=ed&min=0&max=10000&n=10000\",\n",
    "        \"https://www.dreambank.net/random_sample.cgi?series=edna&min=0&max=10000&n=10000\",\n",
    "        \"https://www.dreambank.net/random_sample.cgi?series=elizabeth&min=0&max=10000&n=10000\",\n",
    "        \"https://www.dreambank.net/random_sample.cgi?series=emmas_husband&min=0&max=10000&n=10000\",\n",
    "        \"https://www.dreambank.net/random_sample.cgi?series=emma&min=0&max=10000&n=10000\",\n",
    "        \"https://www.dreambank.net/random_sample.cgi?series=esther&min=0&max=10000&n=10000\",\n",
    "        \"https://www.dreambank.net/random_sample.cgi?series=norms-f&min=0&max=10000&n=10000\",\n",
    "        \"https://www.dreambank.net/random_sample.cgi?series=norms-m&min=0&max=10000&n=10000\",\n",
    "        \"https://www.dreambank.net/random_sample.cgi?series=izzy-all&min=0&max=10000&n=10000\",\n",
    "        \"https://www.dreambank.net/random_sample.cgi?series=jasmine-all&min=0&max=10000&n=10000\",\n",
    "        \"https://www.dreambank.net/random_sample.cgi?series=jeff&min=0&max=10000&n=10000\",\n",
    "        \"https://www.dreambank.net/random_sample.cgi?series=joan&min=0&max=10000&n=10000\",\n",
    "        \"https://www.dreambank.net/random_sample.cgi?series=lawrence&min=0&max=10000&n=10000\",\n",
    "        \"https://www.dreambank.net/random_sample.cgi?series=mack&min=0&max=10000&n=10000\",\n",
    "        \"https://www.dreambank.net/random_sample.cgi?series=madeline1-hs&min=0&max=10000&n=10000\",\n",
    "        \"https://www.dreambank.net/random_sample.cgi?series=madeline2-dorms&min=0&max=10000&n=10000\",\n",
    "        \"https://www.dreambank.net/random_sample.cgi?series=madeline3-offcampus&min=0&max=10000&n=10000\",\n",
    "        \"https://www.dreambank.net/random_sample.cgi?series=madeline4-postgrad&min=0&max=10000&n=10000\",\n",
    "        \"https://www.dreambank.net/random_sample.cgi?series=mark&min=0&max=10000&n=10000\",\n",
    "        \"https://www.dreambank.net/random_sample.cgi?series=melissa&min=0&max=10000&n=10000\",\n",
    "        \"https://www.dreambank.net/random_sample.cgi?series=melora&min=0&max=10000&n=10000\",\n",
    "        \"https://www.dreambank.net/random_sample.cgi?series=melvin&min=0&max=10000&n=10000\",\n",
    "        \"https://www.dreambank.net/random_sample.cgi?series=merri&min=0&max=10000&n=10000\",\n",
    "        \"https://www.dreambank.net/random_sample.cgi?series=miami-home&min=0&max=10000&n=10000\",\n",
    "        \"https://www.dreambank.net/random_sample.cgi?series=miami-lab&min=0&max=10000&n=10000\",\n",
    "        \"https://www.dreambank.net/random_sample.cgi?series=midwest_teens-f&min=0&max=10000&n=10000\",\n",
    "        \"https://www.dreambank.net/random_sample.cgi?series=midwest_teens-m&min=0&max=10000&n=10000\",\n",
    "        \"https://www.dreambank.net/random_sample.cgi?series=nancy&min=0&max=10000&n=10000\",\n",
    "        \"https://www.dreambank.net/random_sample.cgi?series=natural_scientist&min=0&max=10000&n=10000\",\n",
    "        \"https://www.dreambank.net/random_sample.cgi?series=pegasus&min=0&max=10000&n=10000\",\n",
    "        \"https://www.dreambank.net/random_sample.cgi?series=peru-m&min=0&max=10000&n=10000\",\n",
    "        \"https://www.dreambank.net/random_sample.cgi?series=peru-f&min=0&max=10000&n=10000\",\n",
    "        \"https://www.dreambank.net/random_sample.cgi?series=phil1&min=0&max=10000&n=10000\",\n",
    "        \"https://www.dreambank.net/random_sample.cgi?series=phil2&min=0&max=10000&n=10000\",\n",
    "        \"https://www.dreambank.net/random_sample.cgi?series=phil3&min=0&max=10000&n=10000\",\n",
    "        \"https://www.dreambank.net/random_sample.cgi?series=physiologist&min=0&max=10000&n=10000\",\n",
    "        \"https://www.dreambank.net/random_sample.cgi?series=pregnancy_abortion&min=0&max=10000&n=10000\",\n",
    "        \"https://www.dreambank.net/random_sample.cgi?series=ringo&min=0&max=10000&n=10000\",\n",
    "        \"https://www.dreambank.net/random_sample.cgi?series=bosnak&min=0&max=10000&n=10000\",\n",
    "        \"https://www.dreambank.net/random_sample.cgi?series=sally&min=0&max=10000&n=10000\",\n",
    "        \"https://www.dreambank.net/random_sample.cgi?series=samantha&min=0&max=10000&n=10000\",\n",
    "        \"https://www.dreambank.net/random_sample.cgi?series=seventh_graders&min=0&max=10000&n=10000\",\n",
    "        \"https://www.dreambank.net/random_sample.cgi?series=toby&min=0&max=10000&n=10000\",\n",
    "        \"https://www.dreambank.net/random_sample.cgi?series=tom&min=0&max=10000&n=10000\",\n",
    "        \"https://www.dreambank.net/random_sample.cgi?series=ucsc_women&min=0&max=10000&n=10000\",\n",
    "        \"https://www.dreambank.net/random_sample.cgi?series=van&min=0&max=10000&n=10000\",\n",
    "        \"https://www.dreambank.net/random_sample.cgi?series=vickie&min=0&max=10000&n=10000\",\n",
    "        \"https://www.dreambank.net/random_sample.cgi?series=vietnam_vet&min=0&max=10000&n=10000\",\n",
    "        \"https://www.dreambank.net/random_sample.cgi?series=vietnam_vet2&min=0&max=10000&n=10000\"]\n",
    "\n",
    "tricky_urls = [\"https://www.dreambank.net/random_sample.cgi?series=bay_area_girls_456&min=0&max=10000&n=10000\",\n",
    "              \"https://www.dreambank.net/random_sample.cgi?series=bay_area_girls_789&min=0&max=10000&n=10000\"]\n",
    "kenneth = [\"https://www.dreambank.net/random_sample.cgi?series=kenneth&min=0&max=10000&n=10000\"]\n",
    "college_women = [\"https://www.dreambank.net/random_sample.cgi?series=hall_female&min=0&max=10000&n=10000\"]"
   ]
  },
  {
   "cell_type": "code",
   "execution_count": 5,
   "id": "6cb6d3cf",
   "metadata": {},
   "outputs": [],
   "source": [
    "dreams_tricky = []\n",
    "counts_tricky = []\n",
    "titles_tricky = []\n",
    "for i in tricky_urls:\n",
    "    page = requests.get(i)\n",
    "    soup = BeautifulSoup(page.content, \"html.parser\")\n",
    "    title = max(str(soup.find('h4')).split('<')).split('>')[1]\n",
    "    results = soup.find_all('span')\n",
    "    for i in results:\n",
    "        dreams_tricky.append(max(max(max(max(str(i).split('<span>')).split('</span>')).replace('</li>', '').replace('<li>', '').replace('</ul>','').replace('<ul>','').split('>')).split('\\n')))\n",
    "        counts_tricky.append(max(min(max(str(i).split('<br/>')).split('#')).split(' ', maxsplit = 1)))\n",
    "        titles_tricky.append(title)"
   ]
  },
  {
   "cell_type": "code",
   "execution_count": 6,
   "id": "d0f74563",
   "metadata": {},
   "outputs": [],
   "source": [
    "dreams_tricky2 = []\n",
    "counts_tricky2 = []\n",
    "titles_tricky2 = []\n",
    "for i in kenneth:\n",
    "    page = requests.get(i)\n",
    "    soup = BeautifulSoup(page.content, \"html.parser\")\n",
    "    title = max(str(soup.find('h4')).split('<')).split('>')[1]\n",
    "    results = soup.find_all('span')\n",
    "    for i in results:\n",
    "        dreams_tricky2.append(max(max(str(i).split('<span>')).split('</span>')).split('>')[6].split('\\n')[0])\n",
    "        counts_tricky2.append(max(min(max(str(i).split('<br/>')).split('#')).split(' ', maxsplit = 1)))\n",
    "        titles_tricky2.append(title)"
   ]
  },
  {
   "cell_type": "code",
   "execution_count": 7,
   "id": "3d353cbf",
   "metadata": {},
   "outputs": [],
   "source": [
    "dreams_tricky3 = []\n",
    "counts_tricky3 = []\n",
    "titles_tricky3 = []\n",
    "for i in college_women:\n",
    "    page = requests.get(i)\n",
    "    soup = BeautifulSoup(page.content, \"html.parser\")\n",
    "    title = max(str(soup.find('h4')).split('<')).split('>')[1]\n",
    "    results = soup.find_all('span')\n",
    "    for i in results:\n",
    "        dreams_tricky3.append(str(i).split('>')[3].split('<')[0])\n",
    "        counts_tricky3.append(str(i).split('>')[1].split('#')[1].split(' ', maxsplit = 1)[0])\n",
    "        titles_tricky3.append(title)"
   ]
  },
  {
   "cell_type": "code",
   "execution_count": 8,
   "id": "38ee8d0c",
   "metadata": {},
   "outputs": [],
   "source": [
    "tricky_dreams = np.concatenate((dreams_tricky, dreams_tricky2, dreams_tricky3))\n",
    "tricky_counts = np.concatenate((counts_tricky, counts_tricky2, counts_tricky3))\n",
    "tricky_titles = np.concatenate((titles_tricky, titles_tricky2, titles_tricky3))"
   ]
  },
  {
   "cell_type": "code",
   "execution_count": 9,
   "id": "cb0b7d34",
   "metadata": {},
   "outputs": [],
   "source": [
    "dreams = []\n",
    "counts = []\n",
    "titles = []\n",
    "for i in urls:\n",
    "    page = requests.get(i)\n",
    "    soup = BeautifulSoup(page.content, \"html.parser\")\n",
    "    title = max(str(soup.find('h4')).split('<')).split('>')[1]\n",
    "    results = soup.find_all('span')\n",
    "    for i in results:\n",
    "        dreams.append(max(str(i).split('>')).split('\\n')[0])\n",
    "        counts.append(str(i).split(\">\")[1].split('#')[1].split('<')[0].split(' ')[0])\n",
    "        titles.append(title)"
   ]
  },
  {
   "cell_type": "code",
   "execution_count": 10,
   "id": "3b178d1c",
   "metadata": {},
   "outputs": [],
   "source": [
    "dreams = np.concatenate((dreams, tricky_dreams))\n",
    "counts = np.concatenate((counts, tricky_counts))\n",
    "titles = np.concatenate((titles, tricky_titles))"
   ]
  },
  {
   "cell_type": "code",
   "execution_count": 11,
   "id": "a87ce2fc",
   "metadata": {},
   "outputs": [],
   "source": [
    "dream_text = pd.DataFrame(counts)\n",
    "dream_text.columns=['counts']\n",
    "dream_text[\"dreams\"] = dreams\n",
    "dream_text[\"titles\"] = titles"
   ]
  },
  {
   "cell_type": "code",
   "execution_count": 12,
   "id": "e1d26f82",
   "metadata": {},
   "outputs": [
    {
     "data": {
      "text/html": [
       "<div>\n",
       "<style scoped>\n",
       "    .dataframe tbody tr th:only-of-type {\n",
       "        vertical-align: middle;\n",
       "    }\n",
       "\n",
       "    .dataframe tbody tr th {\n",
       "        vertical-align: top;\n",
       "    }\n",
       "\n",
       "    .dataframe thead th {\n",
       "        text-align: right;\n",
       "    }\n",
       "</style>\n",
       "<table border=\"1\" class=\"dataframe\">\n",
       "  <thead>\n",
       "    <tr style=\"text-align: right;\">\n",
       "      <th></th>\n",
       "      <th>counts</th>\n",
       "      <th>dreams</th>\n",
       "      <th>titles</th>\n",
       "    </tr>\n",
       "  </thead>\n",
       "  <tbody>\n",
       "    <tr>\n",
       "      <th>0</th>\n",
       "      <td>1</td>\n",
       "      <td>The one at the Meads's house, where it's bigge...</td>\n",
       "      <td>Alta: a detailed dreamer</td>\n",
       "    </tr>\n",
       "    <tr>\n",
       "      <th>1</th>\n",
       "      <td>2</td>\n",
       "      <td>I'm at a family reunion in a large fine house ...</td>\n",
       "      <td>Alta: a detailed dreamer</td>\n",
       "    </tr>\n",
       "    <tr>\n",
       "      <th>2</th>\n",
       "      <td>3</td>\n",
       "      <td>I'm not a prisoner, I don't think, so m...</td>\n",
       "      <td>Alta: a detailed dreamer</td>\n",
       "    </tr>\n",
       "    <tr>\n",
       "      <th>3</th>\n",
       "      <td>4</td>\n",
       "      <td>Me pulling the green leaves and berries off so...</td>\n",
       "      <td>Alta: a detailed dreamer</td>\n",
       "    </tr>\n",
       "    <tr>\n",
       "      <th>4</th>\n",
       "      <td>5</td>\n",
       "      <td>I'm in a room that reminds me of (but definite...</td>\n",
       "      <td>Alta: a detailed dreamer</td>\n",
       "    </tr>\n",
       "  </tbody>\n",
       "</table>\n",
       "</div>"
      ],
      "text/plain": [
       "  counts                                             dreams  \\\n",
       "0      1  The one at the Meads's house, where it's bigge...   \n",
       "1      2  I'm at a family reunion in a large fine house ...   \n",
       "2      3         I'm not a prisoner, I don't think, so m...   \n",
       "3      4  Me pulling the green leaves and berries off so...   \n",
       "4      5  I'm in a room that reminds me of (but definite...   \n",
       "\n",
       "                     titles  \n",
       "0  Alta: a detailed dreamer  \n",
       "1  Alta: a detailed dreamer  \n",
       "2  Alta: a detailed dreamer  \n",
       "3  Alta: a detailed dreamer  \n",
       "4  Alta: a detailed dreamer  "
      ]
     },
     "execution_count": 12,
     "metadata": {},
     "output_type": "execute_result"
    }
   ],
   "source": [
    "dream_text.head(5)"
   ]
  },
  {
   "cell_type": "markdown",
   "id": "9b2483e5",
   "metadata": {},
   "source": [
    "The columns in this dataframe are a little bit of a mess because of how they were represented on the website. The 'titles' column is the set of dreams on dreambank.net that the dream came from. The 'counts' column is the original index the dream had in it's set. The 'dreams' column is the text of the description of the dream."
   ]
  },
  {
   "cell_type": "markdown",
   "id": "3912accd",
   "metadata": {},
   "source": [
    "## Write data to CSV for future use"
   ]
  },
  {
   "cell_type": "code",
   "execution_count": 13,
   "id": "9dfc214a",
   "metadata": {},
   "outputs": [],
   "source": [
    "dream_text.to_csv('dream_text_corpus')"
   ]
  }
 ],
 "metadata": {
  "kernelspec": {
   "display_name": "Python 3",
   "language": "python",
   "name": "python3"
  },
  "language_info": {
   "codemirror_mode": {
    "name": "ipython",
    "version": 3
   },
   "file_extension": ".py",
   "mimetype": "text/x-python",
   "name": "python",
   "nbconvert_exporter": "python",
   "pygments_lexer": "ipython3",
   "version": "3.8.8"
  }
 },
 "nbformat": 4,
 "nbformat_minor": 5
}
